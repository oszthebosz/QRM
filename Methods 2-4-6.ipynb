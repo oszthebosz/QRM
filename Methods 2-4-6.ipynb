{
 "cells": [
  {
   "cell_type": "code",
   "execution_count": 1,
   "metadata": {},
   "outputs": [],
   "source": [
    "import pandas as pd\n",
    "import numpy as np\n",
    "import matplotlib.pyplot as plt"
   ]
  },
  {
   "cell_type": "code",
   "execution_count": 56,
   "metadata": {},
   "outputs": [
    {
     "data": {
      "text/html": [
       "<div>\n",
       "<style scoped>\n",
       "    .dataframe tbody tr th:only-of-type {\n",
       "        vertical-align: middle;\n",
       "    }\n",
       "\n",
       "    .dataframe tbody tr th {\n",
       "        vertical-align: top;\n",
       "    }\n",
       "\n",
       "    .dataframe thead th {\n",
       "        text-align: right;\n",
       "    }\n",
       "</style>\n",
       "<table border=\"1\" class=\"dataframe\">\n",
       "  <thead>\n",
       "    <tr style=\"text-align: right;\">\n",
       "      <th></th>\n",
       "      <th>Stock1</th>\n",
       "      <th>Stock2</th>\n",
       "    </tr>\n",
       "  </thead>\n",
       "  <tbody>\n",
       "    <tr>\n",
       "      <th>0</th>\n",
       "      <td>2.60</td>\n",
       "      <td>1.91</td>\n",
       "    </tr>\n",
       "    <tr>\n",
       "      <th>1</th>\n",
       "      <td>8.38</td>\n",
       "      <td>4.64</td>\n",
       "    </tr>\n",
       "    <tr>\n",
       "      <th>2</th>\n",
       "      <td>-0.06</td>\n",
       "      <td>-1.47</td>\n",
       "    </tr>\n",
       "    <tr>\n",
       "      <th>3</th>\n",
       "      <td>4.03</td>\n",
       "      <td>0.12</td>\n",
       "    </tr>\n",
       "    <tr>\n",
       "      <th>4</th>\n",
       "      <td>-5.23</td>\n",
       "      <td>-4.48</td>\n",
       "    </tr>\n",
       "    <tr>\n",
       "      <th>...</th>\n",
       "      <td>...</td>\n",
       "      <td>...</td>\n",
       "    </tr>\n",
       "    <tr>\n",
       "      <th>1995</th>\n",
       "      <td>-6.92</td>\n",
       "      <td>0.82</td>\n",
       "    </tr>\n",
       "    <tr>\n",
       "      <th>1996</th>\n",
       "      <td>1.85</td>\n",
       "      <td>2.36</td>\n",
       "    </tr>\n",
       "    <tr>\n",
       "      <th>1997</th>\n",
       "      <td>-8.98</td>\n",
       "      <td>-6.95</td>\n",
       "    </tr>\n",
       "    <tr>\n",
       "      <th>1998</th>\n",
       "      <td>-6.01</td>\n",
       "      <td>-6.29</td>\n",
       "    </tr>\n",
       "    <tr>\n",
       "      <th>1999</th>\n",
       "      <td>0.61</td>\n",
       "      <td>-0.80</td>\n",
       "    </tr>\n",
       "  </tbody>\n",
       "</table>\n",
       "<p>2000 rows × 2 columns</p>\n",
       "</div>"
      ],
      "text/plain": [
       "      Stock1  Stock2\n",
       "0       2.60    1.91\n",
       "1       8.38    4.64\n",
       "2      -0.06   -1.47\n",
       "3       4.03    0.12\n",
       "4      -5.23   -4.48\n",
       "...      ...     ...\n",
       "1995   -6.92    0.82\n",
       "1996    1.85    2.36\n",
       "1997   -8.98   -6.95\n",
       "1998   -6.01   -6.29\n",
       "1999    0.61   -0.80\n",
       "\n",
       "[2000 rows x 2 columns]"
      ]
     },
     "execution_count": 56,
     "metadata": {},
     "output_type": "execute_result"
    }
   ],
   "source": [
    "data = pd.read_excel(r\"579004_579091.xlsx\").dropna(axis=1)\n",
    "data"
   ]
  },
  {
   "cell_type": "code",
   "execution_count": 61,
   "metadata": {},
   "outputs": [
    {
     "name": "stdout",
     "output_type": "stream",
     "text": [
      "VaR at 99% for Stock 1 is: -14.0903\n",
      "VaR at 99% for Stock 2 is: -11.8401\n",
      "Stock1    14.09\n",
      "Stock2    11.84\n",
      "Name: 1979, dtype: float64\n"
     ]
    }
   ],
   "source": [
    "# 2) Historical Simulation\n",
    "VAR_PERCENTAGE = 99\n",
    "\n",
    "var_99_stock1 = np.percentile(data[\"Stock1\"], 100 - VAR_PERCENTAGE)  \n",
    "var_99_stock2 = np.percentile(data[\"Stock2\"], 100 - VAR_PERCENTAGE)  \n",
    "\n",
    "print(f\"VaR at {VAR_PERCENTAGE}% for Stock 1 is: {var_99_stock1}\")\n",
    "print(f\"VaR at {VAR_PERCENTAGE}% for Stock 2 is: {var_99_stock2}\")\n",
    "\n",
    "# Different approach\n",
    "data_sorted = data.copy()\n",
    "data_sorted.iloc[:] = np.sort(data.mul(-1), axis=0)\n",
    "\n",
    "idx = int(np.ceil(len(data_sorted) * VAR_PERCENTAGE / 100)) - 1\n",
    "var_stocks = data_sorted.iloc[idx, :]\n",
    "\n",
    "print(var_stocks) # They agree"
   ]
  },
  {
   "cell_type": "code",
   "execution_count": 96,
   "metadata": {},
   "outputs": [
    {
     "name": "stdout",
     "output_type": "stream",
     "text": [
      "Alpha hat = Stock1    3.457562\n",
      "Stock2    3.604361\n",
      "dtype: float64\n",
      "VaRs at 99% using the EVT approach with k = 100: Stock1    13.315674\n",
      "Stock2    11.440223\n",
      "dtype: float64\n"
     ]
    }
   ],
   "source": [
    "# 4) EVT Approach\n",
    "k = 100\n",
    "n = len(data)\n",
    "\n",
    "data_sorted = data.copy()\n",
    "data_sorted.iloc[:] = np.sort(data.mul(-1), axis=0)\n",
    "\n",
    "log_sum = 0\n",
    "for i in range(1, k + 1):\n",
    "    log_sum += np.log(data_sorted.iloc[(n - i), :])\n",
    "\n",
    "tail_index_estimate = ((1 / k) * log_sum - np.log(data_sorted.iloc[(n - k - 1), :]))**-1 # Hill estimator\n",
    "print(f\"Alpha hat = {tail_index_estimate}\")\n",
    "\n",
    "var_evt = data_sorted.iloc[(n - k - 1), :] * ((k / (n * (1 - VAR_PERCENTAGE/100)))**(1 / tail_index_estimate))\n",
    "print(f\"VaRs at {VAR_PERCENTAGE}% using the EVT approach with k = {k}: {var_evt}\")\n"
   ]
  },
  {
   "cell_type": "code",
   "execution_count": null,
   "metadata": {},
   "outputs": [],
   "source": []
  }
 ],
 "metadata": {
  "kernelspec": {
   "display_name": "base",
   "language": "python",
   "name": "python3"
  },
  "language_info": {
   "codemirror_mode": {
    "name": "ipython",
    "version": 3
   },
   "file_extension": ".py",
   "mimetype": "text/x-python",
   "name": "python",
   "nbconvert_exporter": "python",
   "pygments_lexer": "ipython3",
   "version": "3.9.12"
  }
 },
 "nbformat": 4,
 "nbformat_minor": 2
}
